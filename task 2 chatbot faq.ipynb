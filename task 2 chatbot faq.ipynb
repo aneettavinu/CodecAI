{
 "cells": [
  {
   "cell_type": "code",
   "execution_count": 1,
   "id": "050dfb8c",
   "metadata": {},
   "outputs": [
    {
     "name": "stdout",
     "output_type": "stream",
     "text": [
      "Requirement already satisfied: nltk in c:\\users\\admin\\anaconda3\\lib\\site-packages (3.9.1)\n",
      "Requirement already satisfied: scikit-learn in c:\\users\\admin\\anaconda3\\lib\\site-packages (1.5.1)\n",
      "Requirement already satisfied: click in c:\\users\\admin\\anaconda3\\lib\\site-packages (from nltk) (8.1.7)\n",
      "Requirement already satisfied: joblib in c:\\users\\admin\\anaconda3\\lib\\site-packages (from nltk) (1.4.2)\n",
      "Requirement already satisfied: regex>=2021.8.3 in c:\\users\\admin\\anaconda3\\lib\\site-packages (from nltk) (2024.9.11)\n",
      "Requirement already satisfied: tqdm in c:\\users\\admin\\anaconda3\\lib\\site-packages (from nltk) (4.66.5)\n",
      "Requirement already satisfied: numpy>=1.19.5 in c:\\users\\admin\\anaconda3\\lib\\site-packages (from scikit-learn) (1.26.4)\n",
      "Requirement already satisfied: scipy>=1.6.0 in c:\\users\\admin\\anaconda3\\lib\\site-packages (from scikit-learn) (1.13.1)\n",
      "Requirement already satisfied: threadpoolctl>=3.1.0 in c:\\users\\admin\\anaconda3\\lib\\site-packages (from scikit-learn) (3.5.0)\n",
      "Requirement already satisfied: colorama in c:\\users\\admin\\anaconda3\\lib\\site-packages (from click->nltk) (0.4.6)\n",
      "Note: you may need to restart the kernel to use updated packages.\n"
     ]
    }
   ],
   "source": [
    "pip install nltk scikit-learn\n"
   ]
  },
  {
   "cell_type": "code",
   "execution_count": 2,
   "id": "20504288",
   "metadata": {},
   "outputs": [
    {
     "name": "stderr",
     "output_type": "stream",
     "text": [
      "[nltk_data] Downloading package punkt to\n",
      "[nltk_data]     C:\\Users\\admin\\AppData\\Roaming\\nltk_data...\n",
      "[nltk_data]   Package punkt is already up-to-date!\n"
     ]
    },
    {
     "data": {
      "text/plain": [
       "True"
      ]
     },
     "execution_count": 2,
     "metadata": {},
     "output_type": "execute_result"
    }
   ],
   "source": [
    "import nltk\n",
    "nltk.download('punkt')\n"
   ]
  },
  {
   "cell_type": "code",
   "execution_count": 1,
   "id": "19451812",
   "metadata": {},
   "outputs": [
    {
     "name": "stderr",
     "output_type": "stream",
     "text": [
      "[nltk_data] Downloading package punkt to\n",
      "[nltk_data]     C:\\Users\\admin\\AppData\\Roaming\\nltk_data...\n",
      "[nltk_data]   Package punkt is already up-to-date!\n"
     ]
    }
   ],
   "source": [
    "import tkinter as tk\n",
    "from tkinter import ttk\n",
    "import nltk\n",
    "import numpy as np\n",
    "from sklearn.feature_extraction.text import TfidfVectorizer\n",
    "from sklearn.metrics.pairwise import cosine_similarity\n",
    "\n",
    "nltk.download('punkt')\n",
    "\n",
    "# Sample FAQs\n",
    "faq_pairs = [\n",
    "    (\"What courses are offered?\", \"We offer B.Tech, M.Tech, MBA, and B.Sc programs.\"),\n",
    "    (\"What is the admission process?\", \"Admissions are based on entrance exams like EAMCET, JEE, and academic merit.\"),\n",
    "    (\"What are the eligibility criteria?\", \"You need at least 60% in your 12th standard for undergraduate courses.\"),\n",
    "    (\"Is there a placement cell?\", \"Yes, we have a dedicated placement cell that brings top recruiters.\"),\n",
    "    (\"Which companies visit for placements?\", \"Companies like TCS, Infosys, Wipro, and Capgemini visit us regularly.\"),\n",
    "    (\"What facilities are available on campus?\", \"We provide hostel, library, gym, Wi-Fi, and modern labs.\"),\n",
    "    (\"Does the college provide hostel facilities?\", \"Yes, separate hostels are available for boys and girls.\"),\n",
    "    (\"What is the fee structure?\", \"The fee varies by course. Please visit the official website for details.\"),\n",
    "    (\"Who can I contact for admission?\", \"You can call the admission office at +91-9876543210 or email us.\"),\n",
    "    (\"Where is the college located?\", \"The college is located in Hyderabad, Telangana, India.\"),\n",
    "]\n",
    "\n",
    "\n",
    "faq_questions = [q for q, _ in faq_pairs]\n",
    "faq_answers = [a for _, a in faq_pairs]\n",
    "\n",
    "vectorizer = TfidfVectorizer()\n",
    "X = vectorizer.fit_transform(faq_questions)\n",
    "\n",
    "def get_response(user_query):\n",
    "    query_vec = vectorizer.transform([user_query])\n",
    "    similarity = cosine_similarity(query_vec, X)\n",
    "    max_score = np.max(similarity)\n",
    "\n",
    "    if max_score < 0.2:\n",
    "        return \"Sorry, I didn't understand. Please ask something else.\"\n",
    "    \n",
    "    index = similarity.argmax()\n",
    "    return faq_answers[index]\n",
    "\n",
    "class FAQChatbotApp:\n",
    "    def __init__(self, root):\n",
    "        root.title(\"🤖 FAQ Chatbot\")\n",
    "        root.geometry(\"700x500\")\n",
    "        root.configure(bg=\"#f8f8f8\")\n",
    "\n",
    "        tk.Label(root, text=\"Ask Me About Our College\", font=(\"Helvetica\", 18, \"bold\"), bg=\"#f8f8f8\", fg=\"#333\").pack(pady=10)\n",
    "\n",
    "        self.chat_log = tk.Text(root, state=tk.DISABLED, height=15, bg=\"#e9e9e9\", font=(\"Helvetica\", 12))\n",
    "        self.chat_log.pack(padx=10, pady=5, fill=tk.BOTH, expand=True)\n",
    "\n",
    "        self.user_input = tk.Entry(root, font=(\"Helvetica\", 12))\n",
    "        self.user_input.pack(padx=10, pady=5, fill=tk.X)\n",
    "        self.user_input.bind(\"<Return>\", self.respond)\n",
    "\n",
    "        tk.Button(root, text=\"Send\", bg=\"#2196F3\", fg=\"white\", font=(\"Helvetica\", 12, \"bold\"),\n",
    "                  command=self.respond).pack(pady=5)\n",
    "\n",
    "    def respond(self, event=None):\n",
    "        user_q = self.user_input.get().strip()\n",
    "        if not user_q:\n",
    "            return\n",
    "\n",
    "        self.chat_log.config(state=tk.NORMAL)\n",
    "        self.chat_log.insert(tk.END, f\"You: {user_q}\\n\")\n",
    "\n",
    "        bot_a = get_response(user_q)\n",
    "        self.chat_log.insert(tk.END, f\"Bot: {bot_a}\\n\\n\")\n",
    "        self.chat_log.config(state=tk.DISABLED)\n",
    "        self.chat_log.see(tk.END)\n",
    "\n",
    "        self.user_input.delete(0, tk.END)\n",
    "\n",
    "if __name__ == \"__main__\":\n",
    "    root = tk.Tk()\n",
    "    app = FAQChatbotApp(root)\n",
    "    root.mainloop()\n"
   ]
  }
 ],
 "metadata": {
  "kernelspec": {
   "display_name": "base",
   "language": "python",
   "name": "python3"
  },
  "language_info": {
   "codemirror_mode": {
    "name": "ipython",
    "version": 3
   },
   "file_extension": ".py",
   "mimetype": "text/x-python",
   "name": "python",
   "nbconvert_exporter": "python",
   "pygments_lexer": "ipython3",
   "version": "3.12.7"
  }
 },
 "nbformat": 4,
 "nbformat_minor": 5
}
